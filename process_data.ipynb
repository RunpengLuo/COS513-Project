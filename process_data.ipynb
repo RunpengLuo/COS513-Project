{
 "cells": [
  {
   "cell_type": "code",
   "execution_count": 2,
   "id": "142c85e3",
   "metadata": {},
   "outputs": [],
   "source": [
    "import os\n",
    "from collections import OrderedDict\n",
    "import numpy as np\n",
    "import pandas as pd\n",
    "from sklearn import preprocessing\n",
    "\n",
    "from pyspark.sql import SparkSession\n",
    "import pyspark.sql.functions as F\n",
    "from pyspark.sql.window import Window"
   ]
  },
  {
   "cell_type": "code",
   "execution_count": 3,
   "id": "3d914d13",
   "metadata": {},
   "outputs": [
    {
     "name": "stderr",
     "output_type": "stream",
     "text": [
      "Setting default log level to \"WARN\".\n",
      "To adjust logging level use sc.setLogLevel(newLevel). For SparkR, use setLogLevel(newLevel).\n",
      "25/04/20 21:45:46 WARN NativeCodeLoader: Unable to load native-hadoop library for your platform... using builtin-java classes where applicable\n",
      "25/04/20 21:45:55 WARN SparkStringUtils: Truncated the string representation of a plan since it was too large. This behavior can be adjusted by setting 'spark.sql.debug.maxToStringFields'.\n",
      "                                                                                \r"
     ]
    }
   ],
   "source": [
    "# Since the dataset is stored in json format and the size is pretty huge, using pandas (or dask) for data transformation will cause long waiting time for tasks to complete or even problems in memory allocation. \n",
    "# To avoid such inconvenience, we will use PySpark to deal with this dataset.\n",
    "\n",
    "spark = SparkSession.builder.appName('yelp_dataset').getOrCreate()\n",
    "\n",
    "reviews_sk = spark.read.json('data/yelp_academic_dataset_review.json')\n",
    "business_sk = spark.read.json('data/yelp_academic_dataset_business.json')\n",
    "users_sk = spark.read.json('data/yelp_academic_dataset_user.json')"
   ]
  },
  {
   "cell_type": "markdown",
   "id": "89f42f24",
   "metadata": {},
   "source": [
    "## Data Analysis"
   ]
  },
  {
   "cell_type": "code",
   "execution_count": 5,
   "id": "8583a274",
   "metadata": {},
   "outputs": [
    {
     "name": "stderr",
     "output_type": "stream",
     "text": [
      "                                                                                \r"
     ]
    },
    {
     "name": "stdout",
     "output_type": "stream",
     "text": [
      "Total number of reviews: 6990280\n",
      "Total number of business: 150346\n"
     ]
    },
    {
     "name": "stderr",
     "output_type": "stream",
     "text": [
      "[Stage 9:====================================================>    (24 + 2) / 26]\r"
     ]
    },
    {
     "name": "stdout",
     "output_type": "stream",
     "text": [
      "Total number of users: 1987897\n"
     ]
    },
    {
     "name": "stderr",
     "output_type": "stream",
     "text": [
      "                                                                                \r"
     ]
    }
   ],
   "source": [
    "print(\"Total number of reviews: {}\".format(reviews_sk.count()))\n",
    "print(\"Total number of business: {}\".format(business_sk.count()))\n",
    "print(\"Total number of users: {}\".format(users_sk.count()))"
   ]
  },
  {
   "cell_type": "code",
   "execution_count": 10,
   "id": "bde1d3c1",
   "metadata": {},
   "outputs": [
    {
     "name": "stdout",
     "output_type": "stream",
     "text": [
      "+-------------+-----+\n",
      "|city         |count|\n",
      "+-------------+-----+\n",
      "|Philadelphia |14569|\n",
      "|Tucson       |9250 |\n",
      "|Tampa        |9050 |\n",
      "|Indianapolis |7540 |\n",
      "|Nashville    |6971 |\n",
      "|New Orleans  |6209 |\n",
      "|Reno         |5935 |\n",
      "|Edmonton     |5054 |\n",
      "|Saint Louis  |4827 |\n",
      "|Santa Barbara|3829 |\n",
      "+-------------+-----+\n",
      "only showing top 10 rows\n",
      "\n"
     ]
    }
   ],
   "source": [
    "business_sk.groupBy(\"city\") \\\n",
    "    .count() \\\n",
    "    .orderBy(F.desc(\"count\")) \\\n",
    "    .show(10, truncate=False)"
   ]
  },
  {
   "cell_type": "code",
   "execution_count": 11,
   "id": "68d523ad",
   "metadata": {},
   "outputs": [
    {
     "name": "stdout",
     "output_type": "stream",
     "text": [
      "+----------------+-----+\n",
      "|category        |count|\n",
      "+----------------+-----+\n",
      "|Restaurants     |52268|\n",
      "|Food            |27781|\n",
      "|Shopping        |24395|\n",
      "|Home Services   |14356|\n",
      "|Beauty & Spas   |14292|\n",
      "|Nightlife       |12281|\n",
      "|Health & Medical|11890|\n",
      "|Local Services  |11198|\n",
      "|Bars            |11065|\n",
      "|Automotive      |10773|\n",
      "+----------------+-----+\n",
      "only showing top 10 rows\n",
      "\n"
     ]
    }
   ],
   "source": [
    "business_sk.select(F.explode(F.split(\"categories\", \", \")).alias(\"category\")) \\\n",
    "    .groupBy(\"category\") \\\n",
    "    .count() \\\n",
    "    .orderBy(F.desc(\"count\")) \\\n",
    "    .show(10, truncate=False)"
   ]
  },
  {
   "cell_type": "code",
   "execution_count": 13,
   "id": "cdf65c46",
   "metadata": {},
   "outputs": [
    {
     "name": "stderr",
     "output_type": "stream",
     "text": [
      "[Stage 33:=================================================>      (35 + 5) / 40]\r"
     ]
    },
    {
     "name": "stdout",
     "output_type": "stream",
     "text": [
      "+----------------------+-----+\n",
      "|user_id               |count|\n",
      "+----------------------+-----+\n",
      "|_BcWyKQL16ndpBdggh2kNA|3048 |\n",
      "|Xw7ZjaGfr0WNVt6s_5KZfA|1840 |\n",
      "|0Igx-a1wAstiBDerGxXk2A|1747 |\n",
      "|-G7Zkl1wIWBBmD0KRy_sCw|1682 |\n",
      "|ET8n-r7glWYqZhuR6GcdNw|1653 |\n",
      "|bYENop4BuQepBjM1-BI3fA|1578 |\n",
      "|1HM81n6n4iPIFU5d2Lokhw|1554 |\n",
      "|fr1Hz2acAb3OaL3l6DyKNg|1447 |\n",
      "|wXdbkFZsfDR7utJvbWElyA|1396 |\n",
      "|Um5bfs5DH6eizgjH3xZsvg|1391 |\n",
      "+----------------------+-----+\n",
      "only showing top 10 rows\n",
      "\n"
     ]
    },
    {
     "name": "stderr",
     "output_type": "stream",
     "text": [
      "                                                                                \r"
     ]
    }
   ],
   "source": [
    "reviews_sk.groupBy(\"user_id\") \\\n",
    "    .count() \\\n",
    "    .orderBy(F.desc(\"count\")) \\\n",
    "    .show(10, truncate=False)"
   ]
  },
  {
   "cell_type": "code",
   "execution_count": null,
   "id": "823cc2e4",
   "metadata": {},
   "outputs": [
    {
     "name": "stderr",
     "output_type": "stream",
     "text": [
      "                                                                                \r"
     ]
    },
    {
     "name": "stdout",
     "output_type": "stream",
     "text": [
      "+----------------------------------+------------+-----+-----+\n",
      "|name                              |city        |count|stars|\n",
      "+----------------------------------+------------+-----+-----+\n",
      "|Luke                              |New Orleans |4661 |4.0  |\n",
      "|Royal House                       |New Orleans |5146 |4.0  |\n",
      "|Commander's Palace                |New Orleans |4969 |4.5  |\n",
      "|Hattie B’s Hot Chicken - Nashville|Nashville   |6160 |4.5  |\n",
      "|Cochon                            |New Orleans |4480 |4.0  |\n",
      "|Mother's Restaurant               |New Orleans |5254 |3.5  |\n",
      "|Oceana Grill                      |New Orleans |7516 |4.0  |\n",
      "|Acme Oyster House                 |New Orleans |7673 |4.0  |\n",
      "|Reading Terminal Market           |Philadelphia|5778 |4.5  |\n",
      "|Ruby Slipper - New Orleans        |New Orleans |5264 |4.5  |\n",
      "+----------------------------------+------------+-----+-----+\n",
      "\n"
     ]
    }
   ],
   "source": [
    "# Most Reviewed Businesses\n",
    "\n",
    "top_businesses = reviews_sk.groupBy(\"business_id\") \\\n",
    "    .count() \\\n",
    "    .orderBy(F.desc(\"count\")) \\\n",
    "    .limit(10)\n",
    "\n",
    "top_businesses.join(business_sk, on=\"business_id\") \\\n",
    "    .select(\"name\", \"city\", \"count\", \"stars\") \\\n",
    "    .show(truncate=False)"
   ]
  },
  {
   "cell_type": "code",
   "execution_count": null,
   "id": "4a5d0d96",
   "metadata": {},
   "outputs": [],
   "source": []
  },
  {
   "cell_type": "markdown",
   "id": "7e6705a8",
   "metadata": {},
   "source": [
    "## Subset Data: Philadelphia, Restaurant"
   ]
  },
  {
   "cell_type": "code",
   "execution_count": 10,
   "id": "7fd94239",
   "metadata": {},
   "outputs": [
    {
     "name": "stderr",
     "output_type": "stream",
     "text": [
      "25/04/20 21:56:27 WARN WindowExec: No Partition Defined for Window operation! Moving all data to a single partition, this can cause serious performance degradation.\n",
      "25/04/20 21:56:27 WARN WindowExec: No Partition Defined for Window operation! Moving all data to a single partition, this can cause serious performance degradation.\n",
      "25/04/20 21:56:27 WARN WindowExec: No Partition Defined for Window operation! Moving all data to a single partition, this can cause serious performance degradation.\n"
     ]
    },
    {
     "name": "stdout",
     "output_type": "stream",
     "text": [
      "+------------+--------------------+--------------------+-----+\n",
      "|business_cid|         business_id|                name|stars|\n",
      "+------------+--------------------+--------------------+-----+\n",
      "|           0|-0M0b-XhtFagyLmsB...|      Paris Wine Bar|  3.5|\n",
      "|           1|-0PN_KFPtbnLQZEeb...|Mr Wong's Chinese...|  3.5|\n",
      "|           2|-0TffRSXXIlBYVbb5...|IndeBlue Modern I...|  4.5|\n",
      "|           3|-0eUa8TsXFFy0FCxH...|Waterfront Gourme...|  4.0|\n",
      "|           4|-1B9pP_CrRBJYPICE...|            Spice 28|  4.0|\n",
      "+------------+--------------------+--------------------+-----+\n",
      "only showing top 5 rows\n",
      "\n"
     ]
    }
   ],
   "source": [
    "philly_restaurants = business_sk.filter(\n",
    "    (F.col(\"city\") == \"Philadelphia\") & \n",
    "    (F.col(\"categories\").contains(\"Restaurants\"))\n",
    ")\n",
    "\n",
    "philly_business_ids = philly_restaurants.select(\"business_id\")\n",
    "\n",
    "w = Window().partitionBy().orderBy(\"business_id\")\n",
    "philly_restaurants = philly_restaurants.withColumn('business_cid', F.row_number().over(w) - 1)\n",
    "\n",
    "philly_restaurants.select('business_cid', 'business_id', 'name', 'stars').show(5)"
   ]
  },
  {
   "cell_type": "code",
   "execution_count": 11,
   "id": "33f91ed3",
   "metadata": {},
   "outputs": [
    {
     "name": "stderr",
     "output_type": "stream",
     "text": [
      "25/04/20 21:56:29 WARN WindowExec: No Partition Defined for Window operation! Moving all data to a single partition, this can cause serious performance degradation.\n",
      "25/04/20 21:56:29 WARN WindowExec: No Partition Defined for Window operation! Moving all data to a single partition, this can cause serious performance degradation.\n",
      "25/04/20 21:56:29 WARN WindowExec: No Partition Defined for Window operation! Moving all data to a single partition, this can cause serious performance degradation.\n",
      "25/04/20 21:56:29 WARN WindowExec: No Partition Defined for Window operation! Moving all data to a single partition, this can cause serious performance degradation.\n",
      "25/04/20 21:56:29 WARN WindowExec: No Partition Defined for Window operation! Moving all data to a single partition, this can cause serious performance degradation.\n",
      "25/04/20 21:56:29 WARN WindowExec: No Partition Defined for Window operation! Moving all data to a single partition, this can cause serious performance degradation.\n",
      "25/04/20 21:56:29 WARN WindowExec: No Partition Defined for Window operation! Moving all data to a single partition, this can cause serious performance degradation.\n",
      "25/04/20 21:56:29 WARN WindowExec: No Partition Defined for Window operation! Moving all data to a single partition, this can cause serious performance degradation.\n",
      "25/04/20 21:56:29 WARN WindowExec: No Partition Defined for Window operation! Moving all data to a single partition, this can cause serious performance degradation.\n",
      "25/04/20 21:56:29 WARN WindowExec: No Partition Defined for Window operation! Moving all data to a single partition, this can cause serious performance degradation.\n",
      "25/04/20 21:56:29 WARN WindowExec: No Partition Defined for Window operation! Moving all data to a single partition, this can cause serious performance degradation.\n",
      "[Stage 65:=================================================>      (35 + 5) / 40]\r"
     ]
    },
    {
     "name": "stdout",
     "output_type": "stream",
     "text": [
      "+----------+--------------------+------------+--------------------+--------------------+-----+\n",
      "|review_cid|           review_id|business_cid|         business_id|             user_id|stars|\n",
      "+----------+--------------------+------------+--------------------+--------------------+-----+\n",
      "|         0|---aZVSWnQtOP_12Q...|        2655|SCjUeZfjafJ88fWWQ...|Zr2x9lE0thdxVXvqB...|  5.0|\n",
      "|         1|---xLOb2_Yx8jwiRx...|        5454|vXb4OWsjPoiBtmarf...|QI2E64QGfIDStq-15...|  5.0|\n",
      "|         2|--0hiTWOfs9K0FWHT...|         715|6ajnOk0GcY9xbb5Oc...|SpESh996ufyMVjsMd...|  5.0|\n",
      "|         3|--12ixFsvpQPZl3FR...|        1798|IkY2ticzHEn4QFn8h...|bUPqFvBLkO7wMYfxW...|  1.0|\n",
      "|         4|--14yHFQP5zSaQM6W...|        3301|ZNWox30LIv7hV5k5Y...|PZwKuOn8oCwQZjmbG...|  5.0|\n",
      "+----------+--------------------+------------+--------------------+--------------------+-----+\n",
      "only showing top 5 rows\n",
      "\n"
     ]
    },
    {
     "name": "stderr",
     "output_type": "stream",
     "text": [
      "                                                                                \r"
     ]
    }
   ],
   "source": [
    "philly_reviews = reviews_sk.join(philly_restaurants.select('business_id', 'business_cid'), 'business_id', 'inner')\n",
    "\n",
    "w = Window().partitionBy().orderBy(\"review_id\")\n",
    "philly_reviews = philly_reviews.withColumn('review_cid', F.row_number().over(w) - 1)\n",
    "\n",
    "philly_reviews.select('review_cid', 'review_id', 'business_cid', 'business_id', 'user_id', 'stars').show(5)"
   ]
  },
  {
   "cell_type": "code",
   "execution_count": 6,
   "id": "755c269b",
   "metadata": {},
   "outputs": [
    {
     "name": "stderr",
     "output_type": "stream",
     "text": [
      "25/04/20 21:52:38 WARN WindowExec: No Partition Defined for Window operation! Moving all data to a single partition, this can cause serious performance degradation.\n",
      "25/04/20 21:52:38 WARN WindowExec: No Partition Defined for Window operation! Moving all data to a single partition, this can cause serious performance degradation.\n",
      "25/04/20 21:52:38 WARN WindowExec: No Partition Defined for Window operation! Moving all data to a single partition, this can cause serious performance degradation.\n",
      "25/04/20 21:52:40 WARN WindowExec: No Partition Defined for Window operation! Moving all data to a single partition, this can cause serious performance degradation.\n",
      "25/04/20 21:52:40 WARN WindowExec: No Partition Defined for Window operation! Moving all data to a single partition, this can cause serious performance degradation.\n",
      "25/04/20 21:52:41 WARN WindowExec: No Partition Defined for Window operation! Moving all data to a single partition, this can cause serious performance degradation.\n",
      "25/04/20 21:52:41 WARN WindowExec: No Partition Defined for Window operation! Moving all data to a single partition, this can cause serious performance degradation.\n",
      "25/04/20 21:52:45 WARN WindowExec: No Partition Defined for Window operation! Moving all data to a single partition, this can cause serious performance degradation.\n",
      "25/04/20 21:52:45 WARN WindowExec: No Partition Defined for Window operation! Moving all data to a single partition, this can cause serious performance degradation.\n",
      "25/04/20 21:52:45 WARN WindowExec: No Partition Defined for Window operation! Moving all data to a single partition, this can cause serious performance degradation.\n",
      "[Stage 15:>                                                         (0 + 7) / 8]\r"
     ]
    },
    {
     "name": "stdout",
     "output_type": "stream",
     "text": [
      "+--------+--------------------+\n",
      "|user_cid|             user_id|\n",
      "+--------+--------------------+\n",
      "|       0|---r61b7EpVPkb4UV...|\n",
      "|       1|--0kuuLmuYBe3Rmu0...|\n",
      "|       2|--13zE3NaRvLSrmfT...|\n",
      "|       3|--2tyArRmSoyKx5r-...|\n",
      "|       4|--2vR0DIsmQ6WfcSz...|\n",
      "+--------+--------------------+\n",
      "only showing top 5 rows\n",
      "\n"
     ]
    },
    {
     "name": "stderr",
     "output_type": "stream",
     "text": [
      "                                                                                \r"
     ]
    }
   ],
   "source": [
    "# Include any user who has at least one review of a Philadelphia restaurant\n",
    "philly_user_ids = philly_reviews.select(\"user_id\").distinct()\n",
    "philly_users = users_sk.join(philly_user_ids, on=\"user_id\", how=\"inner\")\n",
    "\n",
    "w = Window().partitionBy().orderBy(\"user_id\")\n",
    "philly_users = philly_users.withColumn('user_cid', F.row_number().over(w) - 1)\n",
    "\n",
    "philly_users.select(['user_cid', 'user_id']).show(5)"
   ]
  },
  {
   "cell_type": "code",
   "execution_count": 7,
   "id": "eb4ebcdd",
   "metadata": {},
   "outputs": [
    {
     "name": "stdout",
     "output_type": "stream",
     "text": [
      "Philadelphia Restaurants: 5852\n"
     ]
    },
    {
     "name": "stderr",
     "output_type": "stream",
     "text": [
      "                                                                                \r"
     ]
    },
    {
     "name": "stdout",
     "output_type": "stream",
     "text": [
      "Reviews for Philadelphia Restaurants: 687289\n"
     ]
    },
    {
     "name": "stderr",
     "output_type": "stream",
     "text": [
      "[Stage 29:>                                                         (0 + 7) / 8]\r"
     ]
    },
    {
     "name": "stdout",
     "output_type": "stream",
     "text": [
      "Users who reviewed Philadelphia Restaurants: 209513\n"
     ]
    },
    {
     "name": "stderr",
     "output_type": "stream",
     "text": [
      "                                                                                \r"
     ]
    }
   ],
   "source": [
    "# Count of Philadelphia restaurants\n",
    "philly_restaurants_count = philly_restaurants.count()\n",
    "print(f\"Philadelphia Restaurants: {philly_restaurants_count}\")\n",
    "\n",
    "# Count of reviews for those restaurants\n",
    "philly_reviews_count = philly_reviews.count()\n",
    "print(f\"Reviews for Philadelphia Restaurants: {philly_reviews_count}\")\n",
    "\n",
    "# Count of distinct users who reviewed those restaurants\n",
    "philly_users_count = philly_users.count()\n",
    "print(f\"Users who reviewed Philadelphia Restaurants: {philly_users_count}\")"
   ]
  },
  {
   "cell_type": "code",
   "execution_count": 12,
   "id": "6649d95f",
   "metadata": {},
   "outputs": [
    {
     "name": "stderr",
     "output_type": "stream",
     "text": [
      "25/04/20 21:56:48 WARN WindowExec: No Partition Defined for Window operation! Moving all data to a single partition, this can cause serious performance degradation.\n",
      "25/04/20 21:56:48 WARN WindowExec: No Partition Defined for Window operation! Moving all data to a single partition, this can cause serious performance degradation.\n",
      "25/04/20 21:56:48 WARN WindowExec: No Partition Defined for Window operation! Moving all data to a single partition, this can cause serious performance degradation.\n",
      "25/04/20 21:56:48 WARN WindowExec: No Partition Defined for Window operation! Moving all data to a single partition, this can cause serious performance degradation.\n",
      "25/04/20 21:56:48 WARN WindowExec: No Partition Defined for Window operation! Moving all data to a single partition, this can cause serious performance degradation.\n",
      "25/04/20 21:56:48 WARN WindowExec: No Partition Defined for Window operation! Moving all data to a single partition, this can cause serious performance degradation.\n",
      "25/04/20 21:56:48 WARN WindowExec: No Partition Defined for Window operation! Moving all data to a single partition, this can cause serious performance degradation.\n",
      "25/04/20 21:56:48 WARN WindowExec: No Partition Defined for Window operation! Moving all data to a single partition, this can cause serious performance degradation.\n",
      "25/04/20 21:56:48 WARN WindowExec: No Partition Defined for Window operation! Moving all data to a single partition, this can cause serious performance degradation.\n",
      "25/04/20 21:56:48 WARN WindowExec: No Partition Defined for Window operation! Moving all data to a single partition, this can cause serious performance degradation.\n",
      "25/04/20 21:56:48 WARN WindowExec: No Partition Defined for Window operation! Moving all data to a single partition, this can cause serious performance degradation.\n",
      "25/04/20 21:56:48 WARN WindowExec: No Partition Defined for Window operation! Moving all data to a single partition, this can cause serious performance degradation.\n",
      "25/04/20 21:56:48 WARN WindowExec: No Partition Defined for Window operation! Moving all data to a single partition, this can cause serious performance degradation.\n",
      "25/04/20 21:56:48 WARN WindowExec: No Partition Defined for Window operation! Moving all data to a single partition, this can cause serious performance degradation.\n",
      "25/04/20 21:56:48 WARN WindowExec: No Partition Defined for Window operation! Moving all data to a single partition, this can cause serious performance degradation.\n",
      "25/04/20 21:56:48 WARN WindowExec: No Partition Defined for Window operation! Moving all data to a single partition, this can cause serious performance degradation.\n",
      "25/04/20 21:56:50 WARN WindowExec: No Partition Defined for Window operation! Moving all data to a single partition, this can cause serious performance degradation.\n",
      "25/04/20 21:56:50 WARN WindowExec: No Partition Defined for Window operation! Moving all data to a single partition, this can cause serious performance degradation.\n",
      "25/04/20 21:56:50 WARN WindowExec: No Partition Defined for Window operation! Moving all data to a single partition, this can cause serious performance degradation.\n",
      "25/04/20 21:56:50 WARN WindowExec: No Partition Defined for Window operation! Moving all data to a single partition, this can cause serious performance degradation.\n",
      "25/04/20 21:56:51 WARN WindowExec: No Partition Defined for Window operation! Moving all data to a single partition, this can cause serious performance degradation.\n",
      "25/04/20 21:56:51 WARN WindowExec: No Partition Defined for Window operation! Moving all data to a single partition, this can cause serious performance degradation.\n",
      "25/04/20 21:56:51 WARN WindowExec: No Partition Defined for Window operation! Moving all data to a single partition, this can cause serious performance degradation.\n",
      "25/04/20 21:56:51 WARN WindowExec: No Partition Defined for Window operation! Moving all data to a single partition, this can cause serious performance degradation.\n",
      "25/04/20 21:56:54 WARN WindowExec: No Partition Defined for Window operation! Moving all data to a single partition, this can cause serious performance degradation.\n",
      "25/04/20 21:56:54 WARN WindowExec: No Partition Defined for Window operation! Moving all data to a single partition, this can cause serious performance degradation.\n",
      "25/04/20 21:56:54 WARN WindowExec: No Partition Defined for Window operation! Moving all data to a single partition, this can cause serious performance degradation.\n",
      "25/04/20 21:56:54 WARN WindowExec: No Partition Defined for Window operation! Moving all data to a single partition, this can cause serious performance degradation.\n",
      "25/04/20 21:56:58 WARN WindowExec: No Partition Defined for Window operation! Moving all data to a single partition, this can cause serious performance degradation.\n",
      "25/04/20 21:56:58 WARN WindowExec: No Partition Defined for Window operation! Moving all data to a single partition, this can cause serious performance degradation.\n",
      "25/04/20 21:56:58 WARN WindowExec: No Partition Defined for Window operation! Moving all data to a single partition, this can cause serious performance degradation.\n",
      "25/04/20 21:56:58 WARN WindowExec: No Partition Defined for Window operation! Moving all data to a single partition, this can cause serious performance degradation.\n",
      "25/04/20 21:56:59 WARN WindowExec: No Partition Defined for Window operation! Moving all data to a single partition, this can cause serious performance degradation.\n",
      "25/04/20 21:56:59 WARN WindowExec: No Partition Defined for Window operation! Moving all data to a single partition, this can cause serious performance degradation.\n",
      "25/04/20 21:56:59 WARN WindowExec: No Partition Defined for Window operation! Moving all data to a single partition, this can cause serious performance degradation.\n",
      "25/04/20 21:56:59 WARN WindowExec: No Partition Defined for Window operation! Moving all data to a single partition, this can cause serious performance degradation.\n",
      "25/04/20 21:56:59 WARN WindowExec: No Partition Defined for Window operation! Moving all data to a single partition, this can cause serious performance degradation.\n",
      "25/04/20 21:56:59 WARN WindowExec: No Partition Defined for Window operation! Moving all data to a single partition, this can cause serious performance degradation.\n"
     ]
    },
    {
     "name": "stdout",
     "output_type": "stream",
     "text": [
      "+----------+--------------------+------------+--------------------+--------+--------------------+-----+\n",
      "|review_cid|           review_id|business_cid|         business_id|user_cid|             user_id|stars|\n",
      "+----------+--------------------+------------+--------------------+--------+--------------------+-----+\n",
      "|         0|---aZVSWnQtOP_12Q...|        2655|SCjUeZfjafJ88fWWQ...|  120642|Zr2x9lE0thdxVXvqB...|  5.0|\n",
      "|         1|---xLOb2_Yx8jwiRx...|        5454|vXb4OWsjPoiBtmarf...|   89486|QI2E64QGfIDStq-15...|  5.0|\n",
      "|         2|--0hiTWOfs9K0FWHT...|         715|6ajnOk0GcY9xbb5Oc...|   97834|SpESh996ufyMVjsMd...|  5.0|\n",
      "|         3|--12ixFsvpQPZl3FR...|        1798|IkY2ticzHEn4QFn8h...|  129341|bUPqFvBLkO7wMYfxW...|  1.0|\n",
      "|         4|--14yHFQP5zSaQM6W...|        3301|ZNWox30LIv7hV5k5Y...|   87124|PZwKuOn8oCwQZjmbG...|  5.0|\n",
      "+----------+--------------------+------------+--------------------+--------+--------------------+-----+\n",
      "only showing top 5 rows\n",
      "\n"
     ]
    },
    {
     "name": "stderr",
     "output_type": "stream",
     "text": [
      "                                                                                \r"
     ]
    }
   ],
   "source": [
    "# New column in the review dataset for user_cid\n",
    "philly_reviews = philly_reviews.join(philly_users.select('user_id', 'user_cid'), 'user_id', 'inner')\n",
    "philly_reviews.count()\n",
    "philly_reviews.select('review_cid', 'review_id', 'business_cid', 'business_id', 'user_cid', 'user_id', 'stars').show(5)"
   ]
  },
  {
   "cell_type": "code",
   "execution_count": null,
   "id": "2be8dc12",
   "metadata": {},
   "outputs": [],
   "source": []
  },
  {
   "cell_type": "markdown",
   "id": "35df0475",
   "metadata": {},
   "source": [
    "## Preparing Data for Training and Testing\n",
    "\n",
    "Normally, for this task, we would use the function traint_test_split from scikit. However, due to the distinct need of recommender system problem, in which positive items are ranked in higher priority and returned accordingly from the predictor, it is desirable to have a testing set containing only highly/positively rated items.\n",
    "\n",
    "* Recommenders are usually evaluated on how well they retrieve or rank items the user actually liked.\n",
    "* It’s common to define a “positive” interaction (e.g., rating ≥ 4) and treat all others (or missing items) as implicit negatives.\n",
    "* During evaluation, you want to check whether the model can rank those positive items higher than random/unseen items.\n",
    "\n",
    "So in testing:\n",
    "* You keep only positive items (e.g., 4- or 5-star reviews),\n",
    "* Then check if your model ranks them higher than sampled negatives (e.g., items the user didn’t rate or rated poorly)."
   ]
  },
  {
   "cell_type": "code",
   "execution_count": 14,
   "id": "93f02890",
   "metadata": {},
   "outputs": [
    {
     "name": "stderr",
     "output_type": "stream",
     "text": [
      "25/04/20 22:05:11 WARN WindowExec: No Partition Defined for Window operation! Moving all data to a single partition, this can cause serious performance degradation.\n",
      "25/04/20 22:05:11 WARN WindowExec: No Partition Defined for Window operation! Moving all data to a single partition, this can cause serious performance degradation.\n",
      "25/04/20 22:05:13 WARN WindowExec: No Partition Defined for Window operation! Moving all data to a single partition, this can cause serious performance degradation.\n",
      "25/04/20 22:05:13 WARN WindowExec: No Partition Defined for Window operation! Moving all data to a single partition, this can cause serious performance degradation.\n",
      "25/04/20 22:05:13 WARN WindowExec: No Partition Defined for Window operation! Moving all data to a single partition, this can cause serious performance degradation.\n",
      "25/04/20 22:05:13 WARN WindowExec: No Partition Defined for Window operation! Moving all data to a single partition, this can cause serious performance degradation.\n",
      "25/04/20 22:05:13 WARN WindowExec: No Partition Defined for Window operation! Moving all data to a single partition, this can cause serious performance degradation.\n",
      "25/04/20 22:05:13 WARN WindowExec: No Partition Defined for Window operation! Moving all data to a single partition, this can cause serious performance degradation.\n",
      "25/04/20 22:05:17 WARN WindowExec: No Partition Defined for Window operation! Moving all data to a single partition, this can cause serious performance degradation.\n",
      "25/04/20 22:05:17 WARN WindowExec: No Partition Defined for Window operation! Moving all data to a single partition, this can cause serious performance degradation.\n",
      "25/04/20 22:05:21 WARN WindowExec: No Partition Defined for Window operation! Moving all data to a single partition, this can cause serious performance degradation.\n",
      "25/04/20 22:05:21 WARN WindowExec: No Partition Defined for Window operation! Moving all data to a single partition, this can cause serious performance degradation.\n",
      "25/04/20 22:05:22 WARN WindowExec: No Partition Defined for Window operation! Moving all data to a single partition, this can cause serious performance degradation.\n",
      "25/04/20 22:05:22 WARN WindowExec: No Partition Defined for Window operation! Moving all data to a single partition, this can cause serious performance degradation.\n",
      "/tmp/ipykernel_3345069/2327196745.py:6: FutureWarning: The default of observed=False is deprecated and will be changed to True in a future version of pandas. Pass observed=False to retain current behavior or observed=True to adopt the future default and silence this warning.\n",
      "  review_counts = review_counts.groupby(groups)['review_count'].agg(['count'])\n"
     ]
    },
    {
     "data": {
      "text/html": [
       "<div>\n",
       "<style scoped>\n",
       "    .dataframe tbody tr th:only-of-type {\n",
       "        vertical-align: middle;\n",
       "    }\n",
       "\n",
       "    .dataframe tbody tr th {\n",
       "        vertical-align: top;\n",
       "    }\n",
       "\n",
       "    .dataframe thead th {\n",
       "        text-align: right;\n",
       "    }\n",
       "</style>\n",
       "<table border=\"1\" class=\"dataframe\">\n",
       "  <thead>\n",
       "    <tr style=\"text-align: right;\">\n",
       "      <th></th>\n",
       "      <th>user_count</th>\n",
       "    </tr>\n",
       "    <tr>\n",
       "      <th>review_count</th>\n",
       "      <th></th>\n",
       "    </tr>\n",
       "  </thead>\n",
       "  <tbody>\n",
       "    <tr>\n",
       "      <th>(0, 1]</th>\n",
       "      <td>125446</td>\n",
       "    </tr>\n",
       "    <tr>\n",
       "      <th>(1, 2]</th>\n",
       "      <td>33421</td>\n",
       "    </tr>\n",
       "    <tr>\n",
       "      <th>(2, 3]</th>\n",
       "      <td>15147</td>\n",
       "    </tr>\n",
       "    <tr>\n",
       "      <th>(3, 4]</th>\n",
       "      <td>8612</td>\n",
       "    </tr>\n",
       "    <tr>\n",
       "      <th>(4, 5]</th>\n",
       "      <td>5509</td>\n",
       "    </tr>\n",
       "    <tr>\n",
       "      <th>(5, 10]</th>\n",
       "      <td>11513</td>\n",
       "    </tr>\n",
       "    <tr>\n",
       "      <th>(10, 20]</th>\n",
       "      <td>5562</td>\n",
       "    </tr>\n",
       "    <tr>\n",
       "      <th>(20, 50]</th>\n",
       "      <td>3009</td>\n",
       "    </tr>\n",
       "    <tr>\n",
       "      <th>(50, 100]</th>\n",
       "      <td>879</td>\n",
       "    </tr>\n",
       "    <tr>\n",
       "      <th>(100, 200]</th>\n",
       "      <td>335</td>\n",
       "    </tr>\n",
       "    <tr>\n",
       "      <th>(200, 500]</th>\n",
       "      <td>76</td>\n",
       "    </tr>\n",
       "    <tr>\n",
       "      <th>(500, 1000]</th>\n",
       "      <td>4</td>\n",
       "    </tr>\n",
       "  </tbody>\n",
       "</table>\n",
       "</div>"
      ],
      "text/plain": [
       "              user_count\n",
       "review_count            \n",
       "(0, 1]            125446\n",
       "(1, 2]             33421\n",
       "(2, 3]             15147\n",
       "(3, 4]              8612\n",
       "(4, 5]              5509\n",
       "(5, 10]            11513\n",
       "(10, 20]            5562\n",
       "(20, 50]            3009\n",
       "(50, 100]            879\n",
       "(100, 200]           335\n",
       "(200, 500]            76\n",
       "(500, 1000]            4"
      ]
     },
     "execution_count": 14,
     "metadata": {},
     "output_type": "execute_result"
    }
   ],
   "source": [
    "review_counts = philly_reviews.groupby('user_cid').count().toPandas()\n",
    "review_counts = review_counts.rename(columns={'count': 'review_count'})\n",
    "\n",
    "bins = [0, 1, 2, 3, 4, 5, 10, 20, 50, 100, 200, 500, 1000]\n",
    "groups = pd.cut(review_counts['review_count'], bins)\n",
    "review_counts = review_counts.groupby(groups)['review_count'].agg(['count'])\n",
    "review_counts = review_counts.rename(columns={'count': 'user_count'})\n",
    "\n",
    "review_counts"
   ]
  },
  {
   "cell_type": "markdown",
   "id": "d8cb7642",
   "metadata": {},
   "source": [
    "As we can see, the majority of users only contribute one or two reviews. Surprisingly, we have 4 hyper-active user who has 500-1000 reviews under his/her arm.\n",
    "\n",
    "Based on this result, we will split the original dataset into training and testing sets as follows:\n",
    "\n",
    "* All reviews from those users, who have lesser than ten reviews, will be added to the training set, but not to the testing set.\n",
    "* For each active user, who have written more than ten reviews, 20% of positive reviews will be moved to the testing set, while the rest will be comprehended to the training set."
   ]
  },
  {
   "cell_type": "code",
   "execution_count": 15,
   "id": "bdab8015",
   "metadata": {},
   "outputs": [
    {
     "name": "stderr",
     "output_type": "stream",
     "text": [
      "25/04/20 22:07:54 WARN WindowExec: No Partition Defined for Window operation! Moving all data to a single partition, this can cause serious performance degradation.\n",
      "25/04/20 22:07:54 WARN WindowExec: No Partition Defined for Window operation! Moving all data to a single partition, this can cause serious performance degradation.\n",
      "25/04/20 22:07:54 WARN WindowExec: No Partition Defined for Window operation! Moving all data to a single partition, this can cause serious performance degradation.\n",
      "25/04/20 22:07:54 WARN WindowExec: No Partition Defined for Window operation! Moving all data to a single partition, this can cause serious performance degradation.\n",
      "25/04/20 22:07:54 WARN WindowExec: No Partition Defined for Window operation! Moving all data to a single partition, this can cause serious performance degradation.\n",
      "25/04/20 22:07:54 WARN WindowExec: No Partition Defined for Window operation! Moving all data to a single partition, this can cause serious performance degradation.\n",
      "25/04/20 22:07:54 WARN WindowExec: No Partition Defined for Window operation! Moving all data to a single partition, this can cause serious performance degradation.\n",
      "25/04/20 22:07:54 WARN WindowExec: No Partition Defined for Window operation! Moving all data to a single partition, this can cause serious performance degradation.\n",
      "25/04/20 22:07:54 WARN WindowExec: No Partition Defined for Window operation! Moving all data to a single partition, this can cause serious performance degradation.\n",
      "25/04/20 22:07:54 WARN WindowExec: No Partition Defined for Window operation! Moving all data to a single partition, this can cause serious performance degradation.\n",
      "25/04/20 22:07:54 WARN WindowExec: No Partition Defined for Window operation! Moving all data to a single partition, this can cause serious performance degradation.\n",
      "25/04/20 22:07:54 WARN WindowExec: No Partition Defined for Window operation! Moving all data to a single partition, this can cause serious performance degradation.\n",
      "25/04/20 22:07:54 WARN WindowExec: No Partition Defined for Window operation! Moving all data to a single partition, this can cause serious performance degradation.\n",
      "25/04/20 22:07:54 WARN WindowExec: No Partition Defined for Window operation! Moving all data to a single partition, this can cause serious performance degradation.\n",
      "25/04/20 22:07:54 WARN WindowExec: No Partition Defined for Window operation! Moving all data to a single partition, this can cause serious performance degradation.\n",
      "25/04/20 22:07:54 WARN WindowExec: No Partition Defined for Window operation! Moving all data to a single partition, this can cause serious performance degradation.\n",
      "25/04/20 22:07:56 WARN WindowExec: No Partition Defined for Window operation! Moving all data to a single partition, this can cause serious performance degradation.\n",
      "25/04/20 22:07:56 WARN WindowExec: No Partition Defined for Window operation! Moving all data to a single partition, this can cause serious performance degradation.\n",
      "25/04/20 22:07:56 WARN WindowExec: No Partition Defined for Window operation! Moving all data to a single partition, this can cause serious performance degradation.\n",
      "25/04/20 22:07:56 WARN WindowExec: No Partition Defined for Window operation! Moving all data to a single partition, this can cause serious performance degradation.\n",
      "25/04/20 22:07:56 WARN WindowExec: No Partition Defined for Window operation! Moving all data to a single partition, this can cause serious performance degradation.\n",
      "25/04/20 22:07:56 WARN WindowExec: No Partition Defined for Window operation! Moving all data to a single partition, this can cause serious performance degradation.\n",
      "25/04/20 22:07:56 WARN WindowExec: No Partition Defined for Window operation! Moving all data to a single partition, this can cause serious performance degradation.\n",
      "25/04/20 22:07:56 WARN WindowExec: No Partition Defined for Window operation! Moving all data to a single partition, this can cause serious performance degradation.\n",
      "25/04/20 22:08:00 WARN WindowExec: No Partition Defined for Window operation! Moving all data to a single partition, this can cause serious performance degradation.\n",
      "25/04/20 22:08:00 WARN WindowExec: No Partition Defined for Window operation! Moving all data to a single partition, this can cause serious performance degradation.\n",
      "25/04/20 22:08:00 WARN WindowExec: No Partition Defined for Window operation! Moving all data to a single partition, this can cause serious performance degradation.\n",
      "25/04/20 22:08:00 WARN WindowExec: No Partition Defined for Window operation! Moving all data to a single partition, this can cause serious performance degradation.\n",
      "25/04/20 22:08:05 WARN WindowExec: No Partition Defined for Window operation! Moving all data to a single partition, this can cause serious performance degradation.\n",
      "25/04/20 22:08:05 WARN WindowExec: No Partition Defined for Window operation! Moving all data to a single partition, this can cause serious performance degradation.\n",
      "25/04/20 22:08:05 WARN WindowExec: No Partition Defined for Window operation! Moving all data to a single partition, this can cause serious performance degradation.\n",
      "25/04/20 22:08:05 WARN WindowExec: No Partition Defined for Window operation! Moving all data to a single partition, this can cause serious performance degradation.\n",
      "25/04/20 22:08:05 WARN WindowExec: No Partition Defined for Window operation! Moving all data to a single partition, this can cause serious performance degradation.\n",
      "25/04/20 22:08:05 WARN WindowExec: No Partition Defined for Window operation! Moving all data to a single partition, this can cause serious performance degradation.\n",
      "25/04/20 22:08:05 WARN WindowExec: No Partition Defined for Window operation! Moving all data to a single partition, this can cause serious performance degradation.\n",
      "25/04/20 22:08:05 WARN WindowExec: No Partition Defined for Window operation! Moving all data to a single partition, this can cause serious performance degradation.\n",
      "25/04/20 22:08:05 WARN WindowExec: No Partition Defined for Window operation! Moving all data to a single partition, this can cause serious performance degradation.\n",
      "25/04/20 22:08:05 WARN WindowExec: No Partition Defined for Window operation! Moving all data to a single partition, this can cause serious performance degradation.\n",
      "                                                                                \r"
     ]
    },
    {
     "data": {
      "text/plain": [
       "(687289, 4)"
      ]
     },
     "execution_count": 15,
     "metadata": {},
     "output_type": "execute_result"
    }
   ],
   "source": [
    "df = philly_reviews.select(['user_cid', 'business_cid', 'review_cid', 'stars']).toPandas()\n",
    "df.shape"
   ]
  },
  {
   "cell_type": "code",
   "execution_count": null,
   "id": "17115e48",
   "metadata": {},
   "outputs": [
    {
     "name": "stderr",
     "output_type": "stream",
     "text": [
      "/tmp/ipykernel_3345069/3194135333.py:13: DeprecationWarning: DataFrameGroupBy.apply operated on the grouping columns. This behavior is deprecated, and in a future version of pandas the grouping columns will be excluded from the operation. Either pass `include_groups=False` to exclude the groupings or explicitly select the grouping columns after groupby to silence this warning.\n",
      "  df_test = df[conditions].groupby('user_cid').apply(lambda x: pick_top_reviews(x)).reset_index(drop=True)\n"
     ]
    },
    {
     "data": {
      "text/plain": [
       "(33915, 4)"
      ]
     },
     "execution_count": 16,
     "metadata": {},
     "output_type": "execute_result"
    }
   ],
   "source": [
    "high_reviews = df[df['stars'] >= 4.].groupby('user_cid')['business_cid'] \\\n",
    "                                    .count() \\\n",
    "                                    .reset_index() \\\n",
    "                                    .rename(columns={'business_cid': 'review_count'})\n",
    "\n",
    "conditions = (df['user_cid'].isin(high_reviews[high_reviews['review_count'] > 10]['user_cid'])) & (df['stars'] >= 4)\n",
    "\n",
    "def pick_top_reviews(x):\n",
    "    factor = 0.20\n",
    "    nitems = int(np.floor(factor * x.shape[0]))\n",
    "    return x.head(nitems)\n",
    "\n",
    "df_test = df[conditions].groupby('user_cid').apply(lambda x: pick_top_reviews(x)).reset_index(drop=True)\n",
    "df_test.shape"
   ]
  },
  {
   "cell_type": "code",
   "execution_count": 17,
   "id": "9a541846",
   "metadata": {},
   "outputs": [
    {
     "data": {
      "text/plain": [
       "(653374, 4)"
      ]
     },
     "execution_count": 17,
     "metadata": {},
     "output_type": "execute_result"
    }
   ],
   "source": [
    "df_train = df[~df['review_cid'].isin(df_test['review_cid'])]\n",
    "df_train.shape"
   ]
  },
  {
   "cell_type": "code",
   "execution_count": 20,
   "id": "9212bd5c",
   "metadata": {},
   "outputs": [
    {
     "name": "stdout",
     "output_type": "stream",
     "text": [
      "Unique stars in training set: [5. 1. 2. 3. 4.]\n"
     ]
    },
    {
     "name": "stderr",
     "output_type": "stream",
     "text": [
      "/tmp/ipykernel_3345069/121067563.py:5: SettingWithCopyWarning: \n",
      "A value is trying to be set on a copy of a slice from a DataFrame.\n",
      "Try using .loc[row_indexer,col_indexer] = value instead\n",
      "\n",
      "See the caveats in the documentation: https://pandas.pydata.org/pandas-docs/stable/user_guide/indexing.html#returning-a-view-versus-a-copy\n",
      "  df_train['stars_rescale'] = (df_train['stars'] - 1.) / 4.\n"
     ]
    },
    {
     "data": {
      "text/html": [
       "<div>\n",
       "<style scoped>\n",
       "    .dataframe tbody tr th:only-of-type {\n",
       "        vertical-align: middle;\n",
       "    }\n",
       "\n",
       "    .dataframe tbody tr th {\n",
       "        vertical-align: top;\n",
       "    }\n",
       "\n",
       "    .dataframe thead th {\n",
       "        text-align: right;\n",
       "    }\n",
       "</style>\n",
       "<table border=\"1\" class=\"dataframe\">\n",
       "  <thead>\n",
       "    <tr style=\"text-align: right;\">\n",
       "      <th></th>\n",
       "      <th>user_cid</th>\n",
       "      <th>business_cid</th>\n",
       "      <th>review_cid</th>\n",
       "      <th>stars</th>\n",
       "      <th>stars_rescale</th>\n",
       "    </tr>\n",
       "  </thead>\n",
       "  <tbody>\n",
       "    <tr>\n",
       "      <th>0</th>\n",
       "      <td>120642</td>\n",
       "      <td>2655</td>\n",
       "      <td>0</td>\n",
       "      <td>5.0</td>\n",
       "      <td>1.0</td>\n",
       "    </tr>\n",
       "    <tr>\n",
       "      <th>1</th>\n",
       "      <td>89486</td>\n",
       "      <td>5454</td>\n",
       "      <td>1</td>\n",
       "      <td>5.0</td>\n",
       "      <td>1.0</td>\n",
       "    </tr>\n",
       "    <tr>\n",
       "      <th>2</th>\n",
       "      <td>97834</td>\n",
       "      <td>715</td>\n",
       "      <td>2</td>\n",
       "      <td>5.0</td>\n",
       "      <td>1.0</td>\n",
       "    </tr>\n",
       "    <tr>\n",
       "      <th>3</th>\n",
       "      <td>129341</td>\n",
       "      <td>1798</td>\n",
       "      <td>3</td>\n",
       "      <td>1.0</td>\n",
       "      <td>0.0</td>\n",
       "    </tr>\n",
       "    <tr>\n",
       "      <th>4</th>\n",
       "      <td>87124</td>\n",
       "      <td>3301</td>\n",
       "      <td>4</td>\n",
       "      <td>5.0</td>\n",
       "      <td>1.0</td>\n",
       "    </tr>\n",
       "  </tbody>\n",
       "</table>\n",
       "</div>"
      ],
      "text/plain": [
       "   user_cid  business_cid  review_cid  stars  stars_rescale\n",
       "0    120642          2655           0    5.0            1.0\n",
       "1     89486          5454           1    5.0            1.0\n",
       "2     97834           715           2    5.0            1.0\n",
       "3    129341          1798           3    1.0            0.0\n",
       "4     87124          3301           4    5.0            1.0"
      ]
     },
     "execution_count": 20,
     "metadata": {},
     "output_type": "execute_result"
    }
   ],
   "source": [
    "unique_stars = df_train['stars'].unique()\n",
    "print(f\"Unique stars in training set: {unique_stars}\")\n",
    "\n",
    "# Rescale the columns stars in both sets, making values between 0 and 1\n",
    "df_train['stars_rescale'] = (df_train['stars'] - 1.) / 4.\n",
    "df_test['stars_rescale'] = (df_test['stars'] - 1.) / 4.\n",
    "\n",
    "df_train.head()"
   ]
  },
  {
   "cell_type": "code",
   "execution_count": null,
   "id": "fb2401c2",
   "metadata": {},
   "outputs": [
    {
     "name": "stderr",
     "output_type": "stream",
     "text": [
      "25/04/20 22:29:50 WARN WindowExec: No Partition Defined for Window operation! Moving all data to a single partition, this can cause serious performance degradation.\n",
      "25/04/20 22:29:50 WARN WindowExec: No Partition Defined for Window operation! Moving all data to a single partition, this can cause serious performance degradation.\n",
      "25/04/20 22:29:50 WARN WindowExec: No Partition Defined for Window operation! Moving all data to a single partition, this can cause serious performance degradation.\n",
      "25/04/20 22:29:52 WARN WindowExec: No Partition Defined for Window operation! Moving all data to a single partition, this can cause serious performance degradation.\n",
      "25/04/20 22:29:52 WARN WindowExec: No Partition Defined for Window operation! Moving all data to a single partition, this can cause serious performance degradation.\n",
      "25/04/20 22:29:53 WARN WindowExec: No Partition Defined for Window operation! Moving all data to a single partition, this can cause serious performance degradation.\n",
      "25/04/20 22:29:53 WARN WindowExec: No Partition Defined for Window operation! Moving all data to a single partition, this can cause serious performance degradation.\n",
      "25/04/20 22:29:56 WARN WindowExec: No Partition Defined for Window operation! Moving all data to a single partition, this can cause serious performance degradation.\n",
      "25/04/20 22:29:56 WARN WindowExec: No Partition Defined for Window operation! Moving all data to a single partition, this can cause serious performance degradation.\n",
      "25/04/20 22:29:56 WARN WindowExec: No Partition Defined for Window operation! Moving all data to a single partition, this can cause serious performance degradation.\n",
      "25/04/20 22:29:56 WARN WindowExec: No Partition Defined for Window operation! Moving all data to a single partition, this can cause serious performance degradation.\n"
     ]
    },
    {
     "name": "stdout",
     "output_type": "stream",
     "text": [
      "Number of unique users: 209513\n",
      "Number of unique restaurants: 5852\n",
      "[0, 1, 2, 3, 4]\n",
      "[0, 1, 2, 3, 4]\n"
     ]
    },
    {
     "name": "stderr",
     "output_type": "stream",
     "text": [
      "25/04/20 22:29:57 WARN WindowExec: No Partition Defined for Window operation! Moving all data to a single partition, this can cause serious performance degradation.\n",
      "25/04/20 22:29:57 WARN WindowExec: No Partition Defined for Window operation! Moving all data to a single partition, this can cause serious performance degradation.\n",
      "25/04/20 22:29:57 WARN WindowExec: No Partition Defined for Window operation! Moving all data to a single partition, this can cause serious performance degradation.\n",
      "25/04/20 22:29:57 WARN WindowExec: No Partition Defined for Window operation! Moving all data to a single partition, this can cause serious performance degradation.\n",
      "25/04/20 22:29:57 WARN WindowExec: No Partition Defined for Window operation! Moving all data to a single partition, this can cause serious performance degradation.\n"
     ]
    }
   ],
   "source": [
    "# Create a list of unique users and restaurants for embedding\n",
    "\n",
    "n_users = philly_users.count()\n",
    "n_rests = philly_restaurants.count()\n",
    "list_unique_users = philly_users.select(['user_cid']).rdd.flatMap(lambda x: x).collect()\n",
    "list_unique_rests = philly_restaurants.select(['business_cid']).rdd.flatMap(lambda x: x).collect()\n",
    "\n",
    "print(f\"Number of unique users: {n_users}\")\n",
    "print(f\"Number of unique restaurants: {n_rests}\")\n",
    "print(list_unique_users[:5])\n",
    "print(list_unique_rests[:5])\n"
   ]
  }
 ],
 "metadata": {
  "kernelspec": {
   "display_name": "513",
   "language": "python",
   "name": "python3"
  },
  "language_info": {
   "codemirror_mode": {
    "name": "ipython",
    "version": 3
   },
   "file_extension": ".py",
   "mimetype": "text/x-python",
   "name": "python",
   "nbconvert_exporter": "python",
   "pygments_lexer": "ipython3",
   "version": "3.9.22"
  }
 },
 "nbformat": 4,
 "nbformat_minor": 5
}
